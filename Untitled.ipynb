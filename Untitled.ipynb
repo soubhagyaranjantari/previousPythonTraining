{
 "cells": [
  {
   "cell_type": "code",
   "execution_count": 1,
   "id": "073d4098",
   "metadata": {},
   "outputs": [
    {
     "data": {
      "text/plain": [
       "6"
      ]
     },
     "execution_count": 1,
     "metadata": {},
     "output_type": "execute_result"
    }
   ],
   "source": [
    "n = -37\n",
    "bin(n)\n",
    "\n",
    "n.bit_length()"
   ]
  },
  {
   "cell_type": "code",
   "execution_count": 2,
   "id": "2fdc9bf5",
   "metadata": {},
   "outputs": [],
   "source": [
    "def bit_length(self):\n",
    "    s = bin(self)       # binary representation:  bin(-37) --> '-0b100101'\n",
    "    s = s.lstrip('-0b') # remove leading zeros and minus sign\n",
    "    return len(s) "
   ]
  },
  {
   "cell_type": "code",
   "execution_count": 4,
   "id": "723e612b",
   "metadata": {},
   "outputs": [
    {
     "data": {
      "text/plain": [
       "5"
      ]
     },
     "execution_count": 4,
     "metadata": {},
     "output_type": "execute_result"
    }
   ],
   "source": [
    "bit_length(20)"
   ]
  },
  {
   "cell_type": "code",
   "execution_count": null,
   "id": "f82b4fe5",
   "metadata": {},
   "outputs": [],
   "source": []
  }
 ],
 "metadata": {
  "kernelspec": {
   "display_name": "Python 3.10.4 64-bit",
   "language": "python",
   "name": "python3"
  },
  "language_info": {
   "codemirror_mode": {
    "name": "ipython",
    "version": 3
   },
   "file_extension": ".py",
   "mimetype": "text/x-python",
   "name": "python",
   "nbconvert_exporter": "python",
   "pygments_lexer": "ipython3",
   "version": "3.10.4"
  },
  "vscode": {
   "interpreter": {
    "hash": "a9cff5a362bc38ef45d817ae74b1af54d6a076e3d773891282bce078b815ba34"
   }
  }
 },
 "nbformat": 4,
 "nbformat_minor": 5
}
